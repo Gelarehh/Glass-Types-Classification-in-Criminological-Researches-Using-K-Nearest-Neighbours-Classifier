{
 "cells": [
  {
   "cell_type": "code",
   "execution_count": 1,
   "id": "5c25dc86",
   "metadata": {},
   "outputs": [],
   "source": [
    "import numpy as np\n",
    "import matplotlib.pyplot as plt\n",
    "import pandas as pd\n",
    "import numpy as np\n",
    "from sklearn import preprocessing"
   ]
  },
  {
   "cell_type": "code",
   "execution_count": 2,
   "id": "95163269",
   "metadata": {},
   "outputs": [
    {
     "data": {
      "text/plain": [
       "2    76\n",
       "1    70\n",
       "7    29\n",
       "3    17\n",
       "5    13\n",
       "6     9\n",
       "Name: Type of glass, dtype: int64"
      ]
     },
     "execution_count": 2,
     "metadata": {},
     "output_type": "execute_result"
    }
   ],
   "source": [
    "# Downloading Dataset\n",
    "col_names = ['ID','refractive index',' Sodium','Magnesium','Aluminum','Silicon','Potassium','Calcium','Barium','Iron','Type of glass']\n",
    "\n",
    "\n",
    "df = pd.read_csv('glass.data.csv', names=col_names)\n",
    "df = df.drop('ID', axis=1)\n",
    "df.head()\n",
    "df['Type of glass'].value_counts()"
   ]
  },
  {
   "cell_type": "code",
   "execution_count": 3,
   "id": "0dc69039",
   "metadata": {},
   "outputs": [
    {
     "data": {
      "text/plain": [
       "array([1, 1, 1, 1, 1], dtype=int64)"
      ]
     },
     "execution_count": 3,
     "metadata": {},
     "output_type": "execute_result"
    }
   ],
   "source": [
    "# Feature Set\n",
    "df.columns\n",
    "\n",
    "# Converting Pandas Data Frame to a Numpy Array\n",
    "X = df[['refractive index',' Sodium','Magnesium','Aluminum','Silicon','Potassium','Calcium','Barium','Iron','Type of glass']] .values\n",
    "X[0:5]\n",
    "\n",
    "y = df['Type of glass'].values\n",
    "y[0:5]"
   ]
  },
  {
   "cell_type": "code",
   "execution_count": 4,
   "id": "8c1c2c60",
   "metadata": {},
   "outputs": [
    {
     "data": {
      "text/plain": [
       "array([[ 0.87286765,  0.28495326,  1.25463857, -0.69244192, -1.12708201,\n",
       "        -0.67170546, -0.14576634, -0.35287683, -0.5864509 , -0.84827468],\n",
       "       [-0.24933347,  0.59181718,  0.63616803, -0.17046023,  0.10231907,\n",
       "        -0.02621325, -0.79373376, -0.35287683, -0.5864509 , -0.84827468],\n",
       "       [-0.72131806,  0.14993314,  0.60142249,  0.19091171,  0.43878673,\n",
       "        -0.16453301, -0.82894938, -0.35287683, -0.5864509 , -0.84827468],\n",
       "       [-0.23283051, -0.24285268,  0.69870999, -0.31099376, -0.0529737 ,\n",
       "         0.11210651, -0.51905192, -0.35287683, -0.5864509 , -0.84827468],\n",
       "       [-0.31204471, -0.16920534,  0.65006624, -0.41137486,  0.55525631,\n",
       "         0.08136879, -0.62469878, -0.35287683, -0.5864509 , -0.84827468]])"
      ]
     },
     "execution_count": 4,
     "metadata": {},
     "output_type": "execute_result"
    }
   ],
   "source": [
    "# Normalizing Data-zero mean and unit variance\n",
    "X = preprocessing.StandardScaler().fit(X).transform(X.astype(float))\n",
    "X[0:5]"
   ]
  },
  {
   "cell_type": "code",
   "execution_count": 5,
   "id": "a0b6dc99",
   "metadata": {},
   "outputs": [
    {
     "name": "stdout",
     "output_type": "stream",
     "text": [
      "Train set: (171, 10) (171,)\n",
      "Test set: (43, 10) (43,)\n"
     ]
    }
   ],
   "source": [
    "# Train-Test Split\n",
    "from sklearn.model_selection import train_test_split\n",
    "X_train, X_test, y_train, y_test = train_test_split( X, y, test_size=0.2, random_state=4)\n",
    "print ('Train set:', X_train.shape,  y_train.shape)\n",
    "print ('Test set:', X_test.shape,  y_test.shape)"
   ]
  },
  {
   "cell_type": "code",
   "execution_count": 6,
   "id": "56180de2",
   "metadata": {},
   "outputs": [],
   "source": [
    "### K nearest neighbor (KNN)\n",
    "from sklearn.neighbors import KNeighborsClassifier"
   ]
  },
  {
   "cell_type": "code",
   "execution_count": 7,
   "id": "9ce46d82",
   "metadata": {},
   "outputs": [
    {
     "name": "stdout",
     "output_type": "stream",
     "text": [
      "Train set Accuracy:  0.8362573099415205\n",
      "Test set Accuracy:  0.9302325581395349\n"
     ]
    }
   ],
   "source": [
    "# Training For k=5\n",
    "k = 5\n",
    "# Train Model and Predict  \n",
    "neigh = KNeighborsClassifier(n_neighbors = k).fit(X_train,y_train)\n",
    "neigh\n",
    "\n",
    "# Predicting\n",
    "yhat = neigh.predict(X_test)\n",
    "yhat[0:5]\n",
    "\n",
    "# Evaluation using jaccard_score function\n",
    "from sklearn import metrics\n",
    "print(\"Train set Accuracy: \", metrics.accuracy_score(y_train, neigh.predict(X_train)))\n",
    "print(\"Test set Accuracy: \", metrics.accuracy_score(y_test, yhat))"
   ]
  },
  {
   "cell_type": "code",
   "execution_count": 8,
   "id": "f4042a25",
   "metadata": {},
   "outputs": [
    {
     "name": "stdout",
     "output_type": "stream",
     "text": [
      "The best accuracy was with 0.9534883720930233 with k= 2\n"
     ]
    }
   ],
   "source": [
    "# Finding the right value for k\n",
    "Ks = 10\n",
    "mean_acc = np.zeros((Ks-1))\n",
    "std_acc = np.zeros((Ks-1))\n",
    "\n",
    "for n in range(1,Ks):\n",
    "    \n",
    "    #Train Model and Predict  \n",
    "    neigh = KNeighborsClassifier(n_neighbors = n).fit(X_train,y_train)\n",
    "    yhat=neigh.predict(X_test)\n",
    "    mean_acc[n-1] = metrics.accuracy_score(y_test, yhat)\n",
    "\n",
    "    \n",
    "    std_acc[n-1]=np.std(yhat==y_test)/np.sqrt(yhat.shape[0])\n",
    "    \n",
    "mean_acc\n",
    "\n",
    "print( \"The best accuracy was with\", mean_acc.max(), \"with k=\", mean_acc.argmax()+1)"
   ]
  }
 ],
 "metadata": {
  "kernelspec": {
   "display_name": "Python 3",
   "language": "python",
   "name": "python3"
  },
  "language_info": {
   "codemirror_mode": {
    "name": "ipython",
    "version": 3
   },
   "file_extension": ".py",
   "mimetype": "text/x-python",
   "name": "python",
   "nbconvert_exporter": "python",
   "pygments_lexer": "ipython3",
   "version": "3.8.8"
  }
 },
 "nbformat": 4,
 "nbformat_minor": 5
}
